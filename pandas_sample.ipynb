{
  "nbformat": 4,
  "nbformat_minor": 0,
  "metadata": {
    "colab": {
      "name": "pandas_sample.ipynb",
      "provenance": [],
      "collapsed_sections": [],
      "include_colab_link": true
    },
    "kernelspec": {
      "name": "python3",
      "display_name": "Python 3"
    },
    "language_info": {
      "name": "python"
    }
  },
  "cells": [
    {
      "cell_type": "markdown",
      "metadata": {
        "id": "view-in-github",
        "colab_type": "text"
      },
      "source": [
        "<a href=\"https://colab.research.google.com/github/junminghuang/princeton-soc504/blob/main/pandas_sample.ipynb\" target=\"_parent\"><img src=\"https://colab.research.google.com/assets/colab-badge.svg\" alt=\"Open In Colab\"/></a>"
      ]
    },
    {
      "cell_type": "markdown",
      "source": [
        "Load data from a local file. You'll get a table with rows as authors and columns as author features including career productivity, career impact (c10), gender, country, discipline, etc. This is a random sample of 100,000 authors and therefore the statistics might differ from the original paper."
      ],
      "metadata": {
        "id": "6VtmM6oWwXXb"
      }
    },
    {
      "cell_type": "code",
      "execution_count": 1,
      "metadata": {
        "id": "CvlChhqjvWry",
        "outputId": "c7c07eca-c392-45aa-d2eb-b50bf0bd8633",
        "colab": {
          "base_uri": "https://localhost:8080/",
          "height": 424
        }
      },
      "outputs": [
        {
          "output_type": "execute_result",
          "data": {
            "text/plain": [
              "       author_id  total pub  career length    total c10  gender  annual prod  \\\n",
              "0         244431         89             29  2176.640283    male     3.075940   \n",
              "1         220838         24             16    92.418506    male     1.594177   \n",
              "2        1536850         85             30  1064.364339    male     2.915062   \n",
              "3        2526880         28             12   118.898608    male     2.348346   \n",
              "4        2239203         20              9   979.238612    male     2.665206   \n",
              "...          ...        ...            ...          ...     ...          ...   \n",
              "99995    3642077          5             13    66.076965  female     0.413457   \n",
              "99996    5926815          5             25    26.068731    male     0.208191   \n",
              "99997    4463841         21             12   257.203275    male     1.912902   \n",
              "99998     649073         13             15   158.766936  female     0.881643   \n",
              "99999     771327          7             14    21.520572    male     0.544892   \n",
              "\n",
              "      country                                     discipline  \n",
              "0          DK                                    Engineering  \n",
              "1          CA                         Life science - Biology  \n",
              "2          IT  Physical science - Space Science or Astronomy  \n",
              "3          JP                                 Health science  \n",
              "4          BE                         Life science - Biology  \n",
              "...       ...                                            ...  \n",
              "99995      IT                         Life science - Biology  \n",
              "99996      IN                   Theoretical computer science  \n",
              "99997      SE                                 Health science  \n",
              "99998      US                                 Health science  \n",
              "99999      JP                     Physical science - Physics  \n",
              "\n",
              "[100000 rows x 8 columns]"
            ],
            "text/html": [
              "\n",
              "  <div id=\"df-cd7332a6-b908-4227-8d60-e55eb4f65dfb\">\n",
              "    <div class=\"colab-df-container\">\n",
              "      <div>\n",
              "<style scoped>\n",
              "    .dataframe tbody tr th:only-of-type {\n",
              "        vertical-align: middle;\n",
              "    }\n",
              "\n",
              "    .dataframe tbody tr th {\n",
              "        vertical-align: top;\n",
              "    }\n",
              "\n",
              "    .dataframe thead th {\n",
              "        text-align: right;\n",
              "    }\n",
              "</style>\n",
              "<table border=\"1\" class=\"dataframe\">\n",
              "  <thead>\n",
              "    <tr style=\"text-align: right;\">\n",
              "      <th></th>\n",
              "      <th>author_id</th>\n",
              "      <th>total pub</th>\n",
              "      <th>career length</th>\n",
              "      <th>total c10</th>\n",
              "      <th>gender</th>\n",
              "      <th>annual prod</th>\n",
              "      <th>country</th>\n",
              "      <th>discipline</th>\n",
              "    </tr>\n",
              "  </thead>\n",
              "  <tbody>\n",
              "    <tr>\n",
              "      <th>0</th>\n",
              "      <td>244431</td>\n",
              "      <td>89</td>\n",
              "      <td>29</td>\n",
              "      <td>2176.640283</td>\n",
              "      <td>male</td>\n",
              "      <td>3.075940</td>\n",
              "      <td>DK</td>\n",
              "      <td>Engineering</td>\n",
              "    </tr>\n",
              "    <tr>\n",
              "      <th>1</th>\n",
              "      <td>220838</td>\n",
              "      <td>24</td>\n",
              "      <td>16</td>\n",
              "      <td>92.418506</td>\n",
              "      <td>male</td>\n",
              "      <td>1.594177</td>\n",
              "      <td>CA</td>\n",
              "      <td>Life science - Biology</td>\n",
              "    </tr>\n",
              "    <tr>\n",
              "      <th>2</th>\n",
              "      <td>1536850</td>\n",
              "      <td>85</td>\n",
              "      <td>30</td>\n",
              "      <td>1064.364339</td>\n",
              "      <td>male</td>\n",
              "      <td>2.915062</td>\n",
              "      <td>IT</td>\n",
              "      <td>Physical science - Space Science or Astronomy</td>\n",
              "    </tr>\n",
              "    <tr>\n",
              "      <th>3</th>\n",
              "      <td>2526880</td>\n",
              "      <td>28</td>\n",
              "      <td>12</td>\n",
              "      <td>118.898608</td>\n",
              "      <td>male</td>\n",
              "      <td>2.348346</td>\n",
              "      <td>JP</td>\n",
              "      <td>Health science</td>\n",
              "    </tr>\n",
              "    <tr>\n",
              "      <th>4</th>\n",
              "      <td>2239203</td>\n",
              "      <td>20</td>\n",
              "      <td>9</td>\n",
              "      <td>979.238612</td>\n",
              "      <td>male</td>\n",
              "      <td>2.665206</td>\n",
              "      <td>BE</td>\n",
              "      <td>Life science - Biology</td>\n",
              "    </tr>\n",
              "    <tr>\n",
              "      <th>...</th>\n",
              "      <td>...</td>\n",
              "      <td>...</td>\n",
              "      <td>...</td>\n",
              "      <td>...</td>\n",
              "      <td>...</td>\n",
              "      <td>...</td>\n",
              "      <td>...</td>\n",
              "      <td>...</td>\n",
              "    </tr>\n",
              "    <tr>\n",
              "      <th>99995</th>\n",
              "      <td>3642077</td>\n",
              "      <td>5</td>\n",
              "      <td>13</td>\n",
              "      <td>66.076965</td>\n",
              "      <td>female</td>\n",
              "      <td>0.413457</td>\n",
              "      <td>IT</td>\n",
              "      <td>Life science - Biology</td>\n",
              "    </tr>\n",
              "    <tr>\n",
              "      <th>99996</th>\n",
              "      <td>5926815</td>\n",
              "      <td>5</td>\n",
              "      <td>25</td>\n",
              "      <td>26.068731</td>\n",
              "      <td>male</td>\n",
              "      <td>0.208191</td>\n",
              "      <td>IN</td>\n",
              "      <td>Theoretical computer science</td>\n",
              "    </tr>\n",
              "    <tr>\n",
              "      <th>99997</th>\n",
              "      <td>4463841</td>\n",
              "      <td>21</td>\n",
              "      <td>12</td>\n",
              "      <td>257.203275</td>\n",
              "      <td>male</td>\n",
              "      <td>1.912902</td>\n",
              "      <td>SE</td>\n",
              "      <td>Health science</td>\n",
              "    </tr>\n",
              "    <tr>\n",
              "      <th>99998</th>\n",
              "      <td>649073</td>\n",
              "      <td>13</td>\n",
              "      <td>15</td>\n",
              "      <td>158.766936</td>\n",
              "      <td>female</td>\n",
              "      <td>0.881643</td>\n",
              "      <td>US</td>\n",
              "      <td>Health science</td>\n",
              "    </tr>\n",
              "    <tr>\n",
              "      <th>99999</th>\n",
              "      <td>771327</td>\n",
              "      <td>7</td>\n",
              "      <td>14</td>\n",
              "      <td>21.520572</td>\n",
              "      <td>male</td>\n",
              "      <td>0.544892</td>\n",
              "      <td>JP</td>\n",
              "      <td>Physical science - Physics</td>\n",
              "    </tr>\n",
              "  </tbody>\n",
              "</table>\n",
              "<p>100000 rows × 8 columns</p>\n",
              "</div>\n",
              "      <button class=\"colab-df-convert\" onclick=\"convertToInteractive('df-cd7332a6-b908-4227-8d60-e55eb4f65dfb')\"\n",
              "              title=\"Convert this dataframe to an interactive table.\"\n",
              "              style=\"display:none;\">\n",
              "        \n",
              "  <svg xmlns=\"http://www.w3.org/2000/svg\" height=\"24px\"viewBox=\"0 0 24 24\"\n",
              "       width=\"24px\">\n",
              "    <path d=\"M0 0h24v24H0V0z\" fill=\"none\"/>\n",
              "    <path d=\"M18.56 5.44l.94 2.06.94-2.06 2.06-.94-2.06-.94-.94-2.06-.94 2.06-2.06.94zm-11 1L8.5 8.5l.94-2.06 2.06-.94-2.06-.94L8.5 2.5l-.94 2.06-2.06.94zm10 10l.94 2.06.94-2.06 2.06-.94-2.06-.94-.94-2.06-.94 2.06-2.06.94z\"/><path d=\"M17.41 7.96l-1.37-1.37c-.4-.4-.92-.59-1.43-.59-.52 0-1.04.2-1.43.59L10.3 9.45l-7.72 7.72c-.78.78-.78 2.05 0 2.83L4 21.41c.39.39.9.59 1.41.59.51 0 1.02-.2 1.41-.59l7.78-7.78 2.81-2.81c.8-.78.8-2.07 0-2.86zM5.41 20L4 18.59l7.72-7.72 1.47 1.35L5.41 20z\"/>\n",
              "  </svg>\n",
              "      </button>\n",
              "      \n",
              "  <style>\n",
              "    .colab-df-container {\n",
              "      display:flex;\n",
              "      flex-wrap:wrap;\n",
              "      gap: 12px;\n",
              "    }\n",
              "\n",
              "    .colab-df-convert {\n",
              "      background-color: #E8F0FE;\n",
              "      border: none;\n",
              "      border-radius: 50%;\n",
              "      cursor: pointer;\n",
              "      display: none;\n",
              "      fill: #1967D2;\n",
              "      height: 32px;\n",
              "      padding: 0 0 0 0;\n",
              "      width: 32px;\n",
              "    }\n",
              "\n",
              "    .colab-df-convert:hover {\n",
              "      background-color: #E2EBFA;\n",
              "      box-shadow: 0px 1px 2px rgba(60, 64, 67, 0.3), 0px 1px 3px 1px rgba(60, 64, 67, 0.15);\n",
              "      fill: #174EA6;\n",
              "    }\n",
              "\n",
              "    [theme=dark] .colab-df-convert {\n",
              "      background-color: #3B4455;\n",
              "      fill: #D2E3FC;\n",
              "    }\n",
              "\n",
              "    [theme=dark] .colab-df-convert:hover {\n",
              "      background-color: #434B5C;\n",
              "      box-shadow: 0px 1px 3px 1px rgba(0, 0, 0, 0.15);\n",
              "      filter: drop-shadow(0px 1px 2px rgba(0, 0, 0, 0.3));\n",
              "      fill: #FFFFFF;\n",
              "    }\n",
              "  </style>\n",
              "\n",
              "      <script>\n",
              "        const buttonEl =\n",
              "          document.querySelector('#df-cd7332a6-b908-4227-8d60-e55eb4f65dfb button.colab-df-convert');\n",
              "        buttonEl.style.display =\n",
              "          google.colab.kernel.accessAllowed ? 'block' : 'none';\n",
              "\n",
              "        async function convertToInteractive(key) {\n",
              "          const element = document.querySelector('#df-cd7332a6-b908-4227-8d60-e55eb4f65dfb');\n",
              "          const dataTable =\n",
              "            await google.colab.kernel.invokeFunction('convertToInteractive',\n",
              "                                                     [key], {});\n",
              "          if (!dataTable) return;\n",
              "\n",
              "          const docLinkHtml = 'Like what you see? Visit the ' +\n",
              "            '<a target=\"_blank\" href=https://colab.research.google.com/notebooks/data_table.ipynb>data table notebook</a>'\n",
              "            + ' to learn more about interactive tables.';\n",
              "          element.innerHTML = '';\n",
              "          dataTable['output_type'] = 'display_data';\n",
              "          await google.colab.output.renderOutput(dataTable, element);\n",
              "          const docLink = document.createElement('div');\n",
              "          docLink.innerHTML = docLinkHtml;\n",
              "          element.appendChild(docLink);\n",
              "        }\n",
              "      </script>\n",
              "    </div>\n",
              "  </div>\n",
              "  "
            ]
          },
          "metadata": {},
          "execution_count": 1
        }
      ],
      "source": [
        "import pandas\n",
        "author_info = pandas.read_csv('https://github.com/junminghuang/princeton-soc504/raw/ee66ac7e00241e6ed16faf1751e6f8d75b4da797/sample-project-gender/author_info_sample.csv')\n",
        "author_info"
      ]
    },
    {
      "cell_type": "markdown",
      "source": [
        "Count the number of male and female scientists."
      ],
      "metadata": {
        "id": "5n0zILRL1dGT"
      }
    },
    {
      "cell_type": "code",
      "source": [
        "author_info.groupby('gender').size()"
      ],
      "metadata": {
        "id": "oxGXxLbJ1fkJ"
      },
      "execution_count": null,
      "outputs": []
    },
    {
      "cell_type": "markdown",
      "source": [
        "Count the average productivity and impact of male and female scientists."
      ],
      "metadata": {
        "id": "EGscUup8wpeE"
      }
    },
    {
      "cell_type": "code",
      "source": [
        "author_info.groupby('gender').mean()[['total pub', 'total c10', 'career length']]"
      ],
      "metadata": {
        "id": "3NdvXtXYw0P1"
      },
      "execution_count": null,
      "outputs": []
    },
    {
      "cell_type": "markdown",
      "source": [
        "... and visualize it."
      ],
      "metadata": {
        "id": "l9GL0_CixvLJ"
      }
    },
    {
      "cell_type": "code",
      "source": [
        "print(author_info.groupby('gender').mean()[['total pub', 'total c10', 'career length']])\n",
        "author_info.groupby('gender').mean()['total pub'].plot.bar()"
      ],
      "metadata": {
        "id": "rlNbFTezxgbr"
      },
      "execution_count": null,
      "outputs": []
    },
    {
      "cell_type": "markdown",
      "source": [
        "Count the number of male and female scientists in each discipline."
      ],
      "metadata": {
        "id": "41Dhmz0h1r0t"
      }
    },
    {
      "cell_type": "code",
      "source": [
        "author_info.groupby(['discipline', 'gender']).size()"
      ],
      "metadata": {
        "id": "CHiLBYRm1vZ9"
      },
      "execution_count": null,
      "outputs": []
    },
    {
      "cell_type": "markdown",
      "source": [
        "Count the productivity by gender and country."
      ],
      "metadata": {
        "id": "OL-qhFiSxT2E"
      }
    },
    {
      "cell_type": "code",
      "source": [
        "author_info.groupby(['gender', 'country']).mean()"
      ],
      "metadata": {
        "id": "zfYtmYqYx5EH"
      },
      "execution_count": null,
      "outputs": []
    },
    {
      "cell_type": "markdown",
      "source": [
        "... and visualize several countries."
      ],
      "metadata": {
        "id": "EcHzCNzMyBXw"
      }
    },
    {
      "cell_type": "code",
      "source": [
        "print(author_info.groupby(['gender', 'country']).mean().loc[[('female', 'US'), ('female', 'DE'), ('male', 'US'), ('male', 'DE')], 'total pub'])\n",
        "author_info.groupby(['gender', 'country']).mean().loc[[('female', 'US'), ('female', 'DE'), ('male', 'US'), ('male', 'DE')], 'total pub'].plot()"
      ],
      "metadata": {
        "id": "QTiJAEflyD01"
      },
      "execution_count": null,
      "outputs": []
    },
    {
      "cell_type": "markdown",
      "source": [
        "Group authors by productivity."
      ],
      "metadata": {
        "id": "woHHORwTyacG"
      }
    },
    {
      "cell_type": "code",
      "source": [
        "pandas.qcut(author_info['total pub'], 5)"
      ],
      "metadata": {
        "id": "rBmBJ3Avyewe"
      },
      "execution_count": null,
      "outputs": []
    },
    {
      "cell_type": "markdown",
      "source": [
        "... and report the productivity and impact in each group"
      ],
      "metadata": {
        "id": "oFPPYvjzynbD"
      }
    },
    {
      "cell_type": "code",
      "source": [
        "print(author_info.groupby(pandas.qcut(author_info['total pub'], 5)).mean()[['total pub', 'total c10']])\n",
        "author_info.groupby(pandas.qcut(author_info['total pub'], 5)).mean()[['total pub', 'total c10']].plot()"
      ],
      "metadata": {
        "id": "xk6CILVyyreO"
      },
      "execution_count": null,
      "outputs": []
    },
    {
      "cell_type": "markdown",
      "source": [
        "Count the gender gap in productivity by discipline."
      ],
      "metadata": {
        "id": "UutaXPU22EU1"
      }
    },
    {
      "cell_type": "code",
      "source": [
        "author_info['male'==author_info['gender']].groupby('discipline').mean()['total pub'] - author_info['female'==author_info['gender']].groupby('discipline').mean()['total pub']"
      ],
      "metadata": {
        "id": "clAXuSMvy6bK"
      },
      "execution_count": null,
      "outputs": []
    },
    {
      "cell_type": "markdown",
      "source": [
        "Align the gender gap in productivity and that in career length by discipline."
      ],
      "metadata": {
        "id": "a9EwHLrQ2dJz"
      }
    },
    {
      "cell_type": "code",
      "source": [
        "import matplotlib.pyplot as plt\n",
        "plt.plot([1,2,3],[3,4,4])"
      ],
      "metadata": {
        "id": "03wDaKR82acm"
      },
      "execution_count": null,
      "outputs": []
    },
    {
      "cell_type": "code",
      "source": [
        "gender_gaps = pandas.concat([\n",
        "  author_info['male'==author_info['gender']].groupby('discipline').mean()['total pub'] - author_info['female'==author_info['gender']].groupby('discipline').mean()['total pub'],\n",
        "  author_info['male'==author_info['gender']].groupby('discipline').mean()['career length'] - author_info['female'==author_info['gender']].groupby('discipline').mean()['career length']\n",
        "], axis=1)\n",
        "print(gender_gaps)\n",
        "plt.scatter(gender_gaps['career length'], gender_gaps['total pub'])\n",
        "sample = gender_gaps.sample(3)\n",
        "print(sample)\n",
        "for discipline, (pub, length) in sample.iterrows():\n",
        "  plt.text(x=length, y=pub, s=discipline)"
      ],
      "metadata": {
        "id": "-BHAsvk-2uj7"
      },
      "execution_count": null,
      "outputs": []
    }
  ]
}