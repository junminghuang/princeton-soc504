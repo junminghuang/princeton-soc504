{
  "nbformat": 4,
  "nbformat_minor": 0,
  "metadata": {
    "colab": {
      "name": "pandas_sample.ipynb",
      "provenance": [],
      "collapsed_sections": [],
      "include_colab_link": true
    },
    "kernelspec": {
      "name": "python3",
      "display_name": "Python 3"
    },
    "language_info": {
      "name": "python"
    }
  },
  "cells": [
    {
      "cell_type": "markdown",
      "metadata": {
        "id": "view-in-github",
        "colab_type": "text"
      },
      "source": [
        "<a href=\"https://colab.research.google.com/github/junminghuang/princeton-soc504/blob/main/pandas_sample.ipynb\" target=\"_parent\"><img src=\"https://colab.research.google.com/assets/colab-badge.svg\" alt=\"Open In Colab\"/></a>"
      ]
    },
    {
      "cell_type": "markdown",
      "source": [
        "Load data from a local file. You'll get a table with rows as authors and columns as author features including career productivity, career impact (c10), gender, country, discipline, etc. This is a random sample of 100,000 authors and therefore the statistics might differ from the original paper."
      ],
      "metadata": {
        "id": "6VtmM6oWwXXb"
      }
    },
    {
      "cell_type": "code",
      "execution_count": null,
      "metadata": {
        "id": "CvlChhqjvWry"
      },
      "outputs": [],
      "source": [
        "import pandas\n",
        "author_info = pandas.read_csv('https://github.com/junminghuang/princeton-soc504/raw/ee66ac7e00241e6ed16faf1751e6f8d75b4da797/sample-project-gender/author_info_sample.csv')\n",
        "author_info"
      ]
    },
    {
      "cell_type": "markdown",
      "source": [
        "Count the number of male and female scientists."
      ],
      "metadata": {
        "id": "5n0zILRL1dGT"
      }
    },
    {
      "cell_type": "code",
      "source": [
        "author_info.groupby('gender').size()"
      ],
      "metadata": {
        "id": "oxGXxLbJ1fkJ"
      },
      "execution_count": null,
      "outputs": []
    },
    {
      "cell_type": "markdown",
      "source": [
        "Count the average productivity and impact of male and female scientists."
      ],
      "metadata": {
        "id": "EGscUup8wpeE"
      }
    },
    {
      "cell_type": "code",
      "source": [
        "author_info.groupby('gender').mean()[['total pub', 'total c10', 'career length']]"
      ],
      "metadata": {
        "id": "3NdvXtXYw0P1"
      },
      "execution_count": null,
      "outputs": []
    },
    {
      "cell_type": "markdown",
      "source": [
        "... and visualize it."
      ],
      "metadata": {
        "id": "l9GL0_CixvLJ"
      }
    },
    {
      "cell_type": "code",
      "source": [
        "print(author_info.groupby('gender').mean()[['total pub', 'total c10', 'career length']])\n",
        "author_info.groupby('gender').mean()['total pub'].plot.bar()"
      ],
      "metadata": {
        "id": "rlNbFTezxgbr"
      },
      "execution_count": null,
      "outputs": []
    },
    {
      "cell_type": "markdown",
      "source": [
        "Count the number of male and female scientists in each discipline."
      ],
      "metadata": {
        "id": "41Dhmz0h1r0t"
      }
    },
    {
      "cell_type": "code",
      "source": [
        "author_info.groupby(['discipline', 'gender']).size()"
      ],
      "metadata": {
        "id": "CHiLBYRm1vZ9"
      },
      "execution_count": null,
      "outputs": []
    },
    {
      "cell_type": "markdown",
      "source": [
        "Count the productivity by gender and country."
      ],
      "metadata": {
        "id": "OL-qhFiSxT2E"
      }
    },
    {
      "cell_type": "code",
      "source": [
        "author_info.groupby(['gender', 'country']).mean()"
      ],
      "metadata": {
        "id": "zfYtmYqYx5EH"
      },
      "execution_count": null,
      "outputs": []
    },
    {
      "cell_type": "markdown",
      "source": [
        "... and visualize several countries."
      ],
      "metadata": {
        "id": "EcHzCNzMyBXw"
      }
    },
    {
      "cell_type": "code",
      "source": [
        "print(author_info.groupby(['gender', 'country']).mean().loc[[('female', 'US'), ('female', 'DE'), ('male', 'US'), ('male', 'DE')], 'total pub'])\n",
        "author_info.groupby(['gender', 'country']).mean().loc[[('female', 'US'), ('female', 'DE'), ('male', 'US'), ('male', 'DE')], 'total pub'].plot()"
      ],
      "metadata": {
        "id": "QTiJAEflyD01"
      },
      "execution_count": null,
      "outputs": []
    },
    {
      "cell_type": "markdown",
      "source": [
        "Group authors by productivity."
      ],
      "metadata": {
        "id": "woHHORwTyacG"
      }
    },
    {
      "cell_type": "code",
      "source": [
        "pandas.qcut(author_info['total pub'], 5)"
      ],
      "metadata": {
        "id": "rBmBJ3Avyewe"
      },
      "execution_count": null,
      "outputs": []
    },
    {
      "cell_type": "markdown",
      "source": [
        "... and report the productivity and impact in each group"
      ],
      "metadata": {
        "id": "oFPPYvjzynbD"
      }
    },
    {
      "cell_type": "code",
      "source": [
        "print(author_info.groupby(pandas.qcut(author_info['total pub'], 5)).mean()[['total pub', 'total c10']])\n",
        "author_info.groupby(pandas.qcut(author_info['total pub'], 5)).mean()[['total pub', 'total c10']].plot()"
      ],
      "metadata": {
        "id": "xk6CILVyyreO"
      },
      "execution_count": null,
      "outputs": []
    },
    {
      "cell_type": "markdown",
      "source": [
        "Count the gender gap in productivity by discipline."
      ],
      "metadata": {
        "id": "UutaXPU22EU1"
      }
    },
    {
      "cell_type": "code",
      "source": [
        "author_info['male'==author_info['gender']].groupby('discipline').mean()['total pub'] - author_info['female'==author_info['gender']].groupby('discipline').mean()['total pub']"
      ],
      "metadata": {
        "id": "clAXuSMvy6bK"
      },
      "execution_count": null,
      "outputs": []
    },
    {
      "cell_type": "markdown",
      "source": [
        "Align the gender gap in productivity and that in career length by discipline."
      ],
      "metadata": {
        "id": "a9EwHLrQ2dJz"
      }
    },
    {
      "cell_type": "code",
      "source": [
        "import matplotlib.pyplot as plt\n",
        "plt.plot([1,2,3],[3,4,4])"
      ],
      "metadata": {
        "id": "03wDaKR82acm"
      },
      "execution_count": null,
      "outputs": []
    },
    {
      "cell_type": "code",
      "source": [
        "gender_gaps = pandas.concat([\n",
        "  author_info['male'==author_info['gender']].groupby('discipline').mean()['total pub'] - author_info['female'==author_info['gender']].groupby('discipline').mean()['total pub'],\n",
        "  author_info['male'==author_info['gender']].groupby('discipline').mean()['career length'] - author_info['female'==author_info['gender']].groupby('discipline').mean()['career length']\n",
        "], axis=1)\n",
        "print(gender_gaps)\n",
        "plt.scatter(gender_gaps['career length'], gender_gaps['total pub'])\n",
        "sample = gender_gaps.sample(3)\n",
        "print(sample)\n",
        "for discipline, (pub, length) in sample.iterrows():\n",
        "  plt.text(x=length, y=pub, s=discipline)"
      ],
      "metadata": {
        "id": "-BHAsvk-2uj7"
      },
      "execution_count": null,
      "outputs": []
    }
  ]
}